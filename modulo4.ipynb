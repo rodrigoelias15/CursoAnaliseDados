{
 "cells": [
  {
   "cell_type": "markdown",
   "metadata": {},
   "source": [
    "# **Módulo 4**"
   ]
  },
  {
   "cell_type": "markdown",
   "metadata": {},
   "source": [
    "## Criação do arquivo banco.csv"
   ]
  },
  {
   "cell_type": "code",
   "execution_count": 74,
   "metadata": {},
   "outputs": [
    {
     "name": "stdout",
     "output_type": "stream",
     "text": [
      "Overwriting banco.csv\n"
     ]
    }
   ],
   "source": [
    "%%writefile banco.csv\n",
    "age,job,marital,education,default,balance,housing,loan\n",
    "30,unemployed,married,primary,no,1787,no,no\n",
    "33,services,married,secondary,no,4789,yes,yes\n",
    "35,management,single,tertiary,no,1350,yes,no\n",
    "30,management,married,tertiary,no,1476,yes,yes\n",
    "59,blue-collar,married,secondary,no,0,yes,no\n",
    "35,management,single,tertiary,no,747,no,no\n",
    "36,self-employed,married,tertiary,no,307,yes,no\n",
    "39,technician,married,secondary,no,147,yes,no\n",
    "41,entrepreneur,married,tertiary,no,221,yes,no\n",
    "43,services,married,primary,no,-88,yes,yes"
   ]
  },
  {
   "cell_type": "markdown",
   "metadata": {},
   "source": [
    "## Abertura de arquivos"
   ]
  },
  {
   "cell_type": "markdown",
   "metadata": {},
   "source": [
    "### Leitura (read)\n",
    "*Faz leitura do arquivo de uma única vez (não recomendado)*"
   ]
  },
  {
   "cell_type": "code",
   "execution_count": 75,
   "metadata": {},
   "outputs": [
    {
     "name": "stdout",
     "output_type": "stream",
     "text": [
      "age,job,marital,education,default,balance,housing,loan\n",
      "30,unemployed,married,primary,no,1787,no,no\n",
      "33,services,married,secondary,no,4789,yes,yes\n",
      "35,management,single,tertiary,no,1350,yes,no\n",
      "30,management,married,tertiary,no,1476,yes,yes\n",
      "59,blue-collar,married,secondary,no,0,yes,no\n",
      "35,management,single,tertiary,no,747,no,no\n",
      "36,self-employed,married,tertiary,no,307,yes,no\n",
      "39,technician,married,secondary,no,147,yes,no\n",
      "41,entrepreneur,married,tertiary,no,221,yes,no\n",
      "43,services,married,primary,no,-88,yes,yes\n",
      "\n"
     ]
    }
   ],
   "source": [
    "conteudo = None\n",
    "\n",
    "with open(file='./banco.csv', mode='r', encoding='utf-8') as arquivo:\n",
    "    conteudo = arquivo.read()\n",
    "\n",
    "print(conteudo)"
   ]
  },
  {
   "cell_type": "markdown",
   "metadata": {},
   "source": [
    "### Leitura (read)\n",
    "*Faz leitura do arquivo linha por linha*"
   ]
  },
  {
   "cell_type": "code",
   "execution_count": 76,
   "metadata": {},
   "outputs": [
    {
     "name": "stdout",
     "output_type": "stream",
     "text": [
      "['age,job,marital,education,default,balance,housing,loan\\n', '30,unemployed,married,primary,no,1787,no,no\\n', '33,services,married,secondary,no,4789,yes,yes\\n', '35,management,single,tertiary,no,1350,yes,no\\n', '30,management,married,tertiary,no,1476,yes,yes\\n', '59,blue-collar,married,secondary,no,0,yes,no\\n', '35,management,single,tertiary,no,747,no,no\\n', '36,self-employed,married,tertiary,no,307,yes,no\\n', '39,technician,married,secondary,no,147,yes,no\\n', '41,entrepreneur,married,tertiary,no,221,yes,no\\n', '43,services,married,primary,no,-88,yes,yes\\n']\n"
     ]
    }
   ],
   "source": [
    "conteudo = []\n",
    "\n",
    "with open(file='./banco.csv', mode='r', encoding='utf-8') as arquivo:\n",
    "    linha = arquivo.readline() # lê a primeira linha até encontrar \\n\n",
    "    while linha:\n",
    "        conteudo.append(linha) # acrescenta o parametro \"linha\" à lista \"conteudo\" a cada iteração\n",
    "        linha = arquivo.readline() # lê uma nova linha, se esta não existir, linha = None \n",
    "\n",
    "print(conteudo)"
   ]
  },
  {
   "cell_type": "code",
   "execution_count": 77,
   "metadata": {},
   "outputs": [
    {
     "name": "stdout",
     "output_type": "stream",
     "text": [
      "age,job,marital,education,default,balance,housing,loan\n",
      "\n",
      "30,unemployed,married,primary,no,1787,no,no\n",
      "\n",
      "33,services,married,secondary,no,4789,yes,yes\n",
      "\n",
      "35,management,single,tertiary,no,1350,yes,no\n",
      "\n",
      "30,management,married,tertiary,no,1476,yes,yes\n",
      "\n",
      "59,blue-collar,married,secondary,no,0,yes,no\n",
      "\n",
      "35,management,single,tertiary,no,747,no,no\n",
      "\n",
      "36,self-employed,married,tertiary,no,307,yes,no\n",
      "\n",
      "39,technician,married,secondary,no,147,yes,no\n",
      "\n",
      "41,entrepreneur,married,tertiary,no,221,yes,no\n",
      "\n",
      "43,services,married,primary,no,-88,yes,yes\n",
      "\n"
     ]
    }
   ],
   "source": [
    "for linha in conteudo:\n",
    "    print(linha)"
   ]
  },
  {
   "cell_type": "markdown",
   "metadata": {},
   "source": [
    "*Extraindo valores da coluna idade (age)*"
   ]
  },
  {
   "cell_type": "code",
   "execution_count": 78,
   "metadata": {},
   "outputs": [
    {
     "name": "stdout",
     "output_type": "stream",
     "text": [
      "[30, 33, 35, 30, 59, 35, 36, 39, 41, 43]\n"
     ]
    }
   ],
   "source": [
    "idades = []\n",
    "\n",
    "with open(file='./banco.csv', mode='r', encoding='utf-8') as arquivo:\n",
    "    linha = arquivo.readline() # lê o cabeçalho\n",
    "    linha = arquivo.readline() # lê a primeira linha\n",
    "    while linha:\n",
    "        linha_separada = linha.split(sep=',') # retorna lista em que cada elemento faz parte de uma coluna\n",
    "        idade = linha_separada[0] # Pega primeiro elemento da lista (elemento da primeira coluna)\n",
    "        idade = int(idade) # converte variavel \"idade\" que era string para integer\n",
    "        idades.append(idade) # adiciona elemento (integer) dentro da lista\n",
    "        linha = arquivo.readline() # lê uma nova linha até que ela seja igual a None\n",
    "print(idades)      "
   ]
  },
  {
   "cell_type": "markdown",
   "metadata": {},
   "source": [
    "### Escrita (write)\n",
    "*Este modo cria um novo arquivo ou sobrescreve o original*"
   ]
  },
  {
   "cell_type": "code",
   "execution_count": 79,
   "metadata": {},
   "outputs": [],
   "source": [
    "with open(file='./idades.csv', mode='w', encoding='utf-8') as fp:\n",
    "    linha = 'idade' + '\\n'\n",
    "    fp.write(linha)\n",
    "    for idade in idades:\n",
    "        linha = str(idade) + '\\n'\n",
    "        fp.write(linha)"
   ]
  },
  {
   "cell_type": "markdown",
   "metadata": {},
   "source": [
    "### Acréscimo (append)\n",
    "*Este modo adiciona informações ao arquivo*"
   ]
  },
  {
   "cell_type": "code",
   "execution_count": 80,
   "metadata": {},
   "outputs": [],
   "source": [
    "with open(file='./idades.csv', mode='a', encoding='utf-8') as fp:\n",
    "    fp.write(linha)\n",
    "    for idade in idades:\n",
    "        linha = str(idade + 100) + '\\n'\n",
    "        fp.write(linha)"
   ]
  },
  {
   "cell_type": "markdown",
   "metadata": {},
   "source": [
    "## Funções"
   ]
  },
  {
   "cell_type": "code",
   "execution_count": 81,
   "metadata": {},
   "outputs": [
    {
     "name": "stdout",
     "output_type": "stream",
     "text": [
      "Rodrigo\n",
      "RODRIGO\n"
     ]
    }
   ],
   "source": [
    "# Não é obrigatório, porém faz parte da boa prática colocar o tipo de parâmetro que a função recebe e o tipo de retorno (logo após \"->\")\n",
    "# Caso a função não tenha explícito um \"return\", ela retorna None\n",
    "\n",
    "def maiusculo(texto: str) -> str:\n",
    "    texto_maiusculo = texto.upper()\n",
    "    return texto_maiusculo\n",
    "\n",
    "nome = \"Rodrigo\"\n",
    "nome_maiusculo = maiusculo(nome)\n",
    "\n",
    "print(nome)\n",
    "print(nome_maiusculo)"
   ]
  },
  {
   "cell_type": "code",
   "execution_count": 87,
   "metadata": {},
   "outputs": [
    {
     "name": "stdout",
     "output_type": "stream",
     "text": [
      "Usuário: rodrigo\n",
      "Provador: gmail.com\n"
     ]
    }
   ],
   "source": [
    "def extrair_usuario_email_provedor(email: str) -> (str, str):\n",
    "    email_separado = email.split('@') # email_separado se torna uma lista, usuário e provedor são separados por \"@\"\n",
    "    usuario = email_separado[0]\n",
    "    provedor = email_separado[1]\n",
    "    return usuario, provedor\n",
    "\n",
    "email = 'rodrigo@gmail.com'\n",
    "usuario, provedor = extrair_usuario_email_provedor(email) # dois retornos sendo jogados em duas variáveis\n",
    "print(\"Usuário:\", usuario)\n",
    "print(\"Provedor:\", provedor)"
   ]
  },
  {
   "cell_type": "code",
   "execution_count": 10,
   "metadata": {},
   "outputs": [],
   "source": [
    "def escreve_arquivo_csv(nome_arquivo: str, cabecalho: str, conteudos: list) -> bool:\n",
    "    try:\n",
    "        with open(file=nome_arquivo, mode='w', encoding='utf-8') as fp:\n",
    "            linha = cabecalho + '\\n'\n",
    "            fp.write(linha)\n",
    "            for conteudo in conteudos:\n",
    "                linha = str(conteudo) + '\\n'\n",
    "                fp.write(linha)\n",
    "                \n",
    "    except Exception as exc:\n",
    "        print(exc)\n",
    "        return False\n",
    "    \n",
    "    return True"
   ]
  },
  {
   "cell_type": "code",
   "execution_count": 94,
   "metadata": {},
   "outputs": [
    {
     "name": "stdout",
     "output_type": "stream",
     "text": [
      "True\n"
     ]
    }
   ],
   "source": [
    "nome_arquivo = 'idades-funcao.csv'\n",
    "cabecalho = 'idade'\n",
    "# cabecalho = 10 # descomentar para retornar erro\n",
    "conteudos = [5,12,45,1,32,54,8,22,40]\n",
    "\n",
    "# argumentos podem ser passados na chamada da função da forma \"funcao(parametro1=argumento)\"\n",
    "# somente quando os argumentos estão nomeados, podem aparecer em qualquer ordem na chamada da função\n",
    "arq_gerado_sucesso = escreve_arquivo_csv(nome_arquivo=nome_arquivo, cabecalho=cabecalho, conteudos=conteudos)\n",
    "print(arq_gerado_sucesso)"
   ]
  },
  {
   "cell_type": "code",
   "execution_count": 12,
   "metadata": {},
   "outputs": [
    {
     "name": "stdout",
     "output_type": "stream",
     "text": [
      "6\n"
     ]
    }
   ],
   "source": [
    "def soma_lista(numeros :list) -> int:\n",
    "    s = 0\n",
    "    for numero in numeros:\n",
    "        s = numero + s\n",
    "    return s\n",
    "\n",
    "lista_num = [2] * 3 # cria lista com mesmo número de elementos que está sendo multiplicada, neste caso [2,2,2]\n",
    "soma = soma_lista(lista_num)\n",
    "print(soma)"
   ]
  }
 ],
 "metadata": {
  "kernelspec": {
   "display_name": "Python 3",
   "language": "python",
   "name": "python3"
  },
  "language_info": {
   "codemirror_mode": {
    "name": "ipython",
    "version": 3
   },
   "file_extension": ".py",
   "mimetype": "text/x-python",
   "name": "python",
   "nbconvert_exporter": "python",
   "pygments_lexer": "ipython3",
   "version": "3.10.12"
  }
 },
 "nbformat": 4,
 "nbformat_minor": 2
}
