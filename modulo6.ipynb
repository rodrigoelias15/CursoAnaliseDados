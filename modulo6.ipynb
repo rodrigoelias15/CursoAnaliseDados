{
 "cells": [
  {
   "cell_type": "markdown",
   "metadata": {},
   "source": [
    "# Orientação a Objetos"
   ]
  },
  {
   "cell_type": "markdown",
   "metadata": {},
   "source": [
    "## Classes "
   ]
  },
  {
   "cell_type": "code",
   "execution_count": 2,
   "metadata": {},
   "outputs": [],
   "source": [
    "from time import sleep\n",
    "\n",
    "class Pessoa(object):\n",
    "    \n",
    "    # métodos iniciados e finalizados com \"__\" em sua assinatura são chamados métodos mágicos\n",
    "    # \"self\" faz referência ao objeto instanciado pela classe\n",
    "    def __init__(self, nome: str, idade: int, documento: str = None):\n",
    "        self.nome = nome\n",
    "        self.idade = idade\n",
    "        self.documento = documento\n",
    "        \n",
    "    def dormir(self, horas: int) -> None:\n",
    "        for hora in range(1, hora+1):\n",
    "            print(f'Dormindo por {hora} horas')\n",
    "            sleep(1)\n",
    "    \n",
    "    def falar(self, texto: str) -> None:\n",
    "        print(texto)\n",
    "    \n",
    "    # Método string que imprime o objeto criado\n",
    "    # \"f\" é chamado f-string (formatted string literals) e permite uso de variáveis em strings\n",
    "    def __str__(self) -> str:\n",
    "        return f\"{self.nome}, {self.idade} anos e documento numero {self.documento}.\" "
   ]
  },
  {
   "cell_type": "markdown",
   "metadata": {},
   "source": [
    "## Objetos"
   ]
  },
  {
   "cell_type": "code",
   "execution_count": null,
   "metadata": {},
   "outputs": [],
   "source": [
    "rodrigo = Pessoa(\"rodrigo\", 32, 123)\n",
    "romario = Pessoa(\"romario\", 41, 234)\n",
    "jailson = Pessoa(\"jailson\", 60)"
   ]
  }
 ],
 "metadata": {
  "kernelspec": {
   "display_name": "Python 3",
   "language": "python",
   "name": "python3"
  },
  "language_info": {
   "codemirror_mode": {
    "name": "ipython",
    "version": 3
   },
   "file_extension": ".py",
   "mimetype": "text/x-python",
   "name": "python",
   "nbconvert_exporter": "python",
   "pygments_lexer": "ipython3",
   "version": "3.10.12"
  }
 },
 "nbformat": 4,
 "nbformat_minor": 2
}
